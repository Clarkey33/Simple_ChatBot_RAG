{
 "cells": [
  {
   "cell_type": "markdown",
   "metadata": {},
   "source": [
    "# Simple Chatbot with RAG Pipeline (LangChain)"
   ]
  },
  {
   "cell_type": "markdown",
   "metadata": {},
   "source": [
    "### Step 1: Document ingestion\n",
    "\n",
    "1.  Redact private info\n",
    "2.  Text preprocessing : chunking\n",
    "\n",
    "describe process flow for the section"
   ]
  },
  {
   "cell_type": "code",
   "execution_count": 1,
   "metadata": {},
   "outputs": [],
   "source": [
    "#import libraries\n"
   ]
  },
  {
   "cell_type": "code",
   "execution_count": 2,
   "metadata": {},
   "outputs": [],
   "source": [
    "def load_pdf(file_path):\n",
    "    '''function to ingest pdf documents '''\n",
    "    from langchain_community.document_loaders import PyPDFLoader #library required\n",
    "    \n",
    "    if isinstance(file_path,str):\n",
    "        #initialize file path\n",
    "        file_path = file_path\n",
    "\n",
    "        #lnitialize pdf loader\n",
    "        pdf_loader = PyPDFLoader(file_path)\n",
    "\n",
    "         #load documents\n",
    "        document = pdf_loader.load()\n",
    "        print(f\"Document loaded successfully.\\n Document has {len(document)} pages from the pdf\")\n",
    "\n",
    "        return document\n",
    "    else:\n",
    "        raise TypeError(\"The file_path must be a string\")"
   ]
  },
  {
   "cell_type": "code",
   "execution_count": 3,
   "metadata": {},
   "outputs": [
    {
     "name": "stdout",
     "output_type": "stream",
     "text": [
      "Document loaded successfully.\n",
      " Document has 185 pages from the pdf\n"
     ]
    }
   ],
   "source": [
    "#load document\n",
    "hr_manual = load_pdf('hr_manual.pdf')\n",
    "\n",
    "#preview first 500 characters\n",
    "#print(hr_manual[20].page_content[:500])\n",
    "\n",
    "#data type\n",
    "#print(type(hr_manual))"
   ]
  },
  {
   "cell_type": "code",
   "execution_count": 4,
   "metadata": {},
   "outputs": [],
   "source": [
    "#check data type for each element in list\n",
    "#for item in hr_manual[:10]:\n",
    "    #print(type(item))\n"
   ]
  },
  {
   "cell_type": "code",
   "execution_count": 5,
   "metadata": {},
   "outputs": [
    {
     "data": {
      "text/plain": [
       "'\\ndef remove_pdf_metadata(input_pdf, output_pdf):\\n    from PyPDF2 import PdfReader, PdfWriter\\n    \\'\\'\\' handle privacy concerns\\'\\'\\'\\n\\n    # Read the PDF file\\n    reader = PdfReader(input_pdf)\\n    writer = PdfWriter()\\n\\n    # Add all pages to the writer\\n    for page in reader.pages:\\n        writer.add_page(page)\\n    \\n    # Explicitly set metadata to an empty dictionary \\n    writer.add_metadata({})  # This removes metadata \\n\\n    # Write the modified PDF to a new file\\n    with open(output_pdf, \\'wb\\') as output_file:\\n        writer.write(output_file)\\n\\n    print(f\"Metadata removed. Cleaned PDF saved to \\'{output_pdf}\\'.\")\\n\\nremove sensitive info\\nremove_pdf_metadata(\"hr_manual.pdf\", \"hr_manual_cleaned.pdf\") \\n\\n'"
      ]
     },
     "execution_count": 5,
     "metadata": {},
     "output_type": "execute_result"
    }
   ],
   "source": [
    "\"\"\"\n",
    "def remove_pdf_metadata(input_pdf, output_pdf):\n",
    "    from PyPDF2 import PdfReader, PdfWriter\n",
    "    ''' handle privacy concerns'''\n",
    "\n",
    "    # Read the PDF file\n",
    "    reader = PdfReader(input_pdf)\n",
    "    writer = PdfWriter()\n",
    "\n",
    "    # Add all pages to the writer\n",
    "    for page in reader.pages:\n",
    "        writer.add_page(page)\n",
    "    \n",
    "    # Explicitly set metadata to an empty dictionary \n",
    "    writer.add_metadata({})  # This removes metadata \n",
    "\n",
    "    # Write the modified PDF to a new file\n",
    "    with open(output_pdf, 'wb') as output_file:\n",
    "        writer.write(output_file)\n",
    "\n",
    "    print(f\"Metadata removed. Cleaned PDF saved to '{output_pdf}'.\")\n",
    "\n",
    "remove sensitive info\n",
    "remove_pdf_metadata(\"hr_manual.pdf\", \"hr_manual_cleaned.pdf\") \n",
    "\n",
    "\"\"\""
   ]
  },
  {
   "cell_type": "code",
   "execution_count": 6,
   "metadata": {},
   "outputs": [],
   "source": [
    "#load document\n",
    "#hr_manual = load_pdf('hr_manual_cleaned.pdf')\n",
    "\n",
    "#preview first 500 characters\n",
    "#print(hr_manual[50].page_content[:500])\n",
    "\n",
    "#data type\n",
    "#print(type(hr_manual))"
   ]
  },
  {
   "cell_type": "code",
   "execution_count": 7,
   "metadata": {},
   "outputs": [],
   "source": [
    "#verify removal of sensitive info\n",
    "#print(hr_manual[25].metadata)"
   ]
  },
  {
   "cell_type": "code",
   "execution_count": 8,
   "metadata": {},
   "outputs": [],
   "source": [
    "def clean_text(text):\n",
    "    import re\n",
    "    \n",
    "    # Remove unwanted characters like /n and unicode escape sequences\n",
    "    text = re.sub(r'\\\\n|\\\\u[0-9a-fA-F]+', ' ', text)  # Replaces newline and unicode escape characters with a space\n",
    "    \n",
    "    # Remove extra spaces and line breaks\n",
    "    text = re.sub(r'\\s+', ' ', text)  # Replace multiple spaces with one space\n",
    "    text = text.strip()  # Remove leading/trailing spaces\n",
    "    \n",
    "    # Optionally, remove unwanted page numbers or numeric values if they exist\n",
    "    text = re.sub(r'\\d+', '', text)  # Remove numbers if they're irrelevant\n",
    "    \n",
    "    return text"
   ]
  },
  {
   "cell_type": "code",
   "execution_count": 9,
   "metadata": {},
   "outputs": [],
   "source": [
    "def extract_and_clean_pdf(file_path):\n",
    "    import fitz\n",
    "    # Open the PDF\n",
    "    document = fitz.open(file_path)\n",
    "\n",
    "    cleaned_text = []\n",
    "\n",
    "    # Iterate through each page\n",
    "    for page_num in range(document.page_count):\n",
    "        page = document.load_page(page_num)\n",
    "        \n",
    "        # Extract raw text from the page\n",
    "        raw_text = page.get_text(\"text\")\n",
    "        \n",
    "        # Clean the text\n",
    "        cleaned_page_text = clean_text(raw_text)\n",
    "        \n",
    "        # Append the cleaned text for each page\n",
    "        cleaned_text.append(cleaned_page_text)\n",
    "    \n",
    "    return cleaned_text"
   ]
  },
  {
   "cell_type": "code",
   "execution_count": 10,
   "metadata": {},
   "outputs": [],
   "source": [
    "def save_cleaned_text_to_file(cleaned_text, output_file_path):\n",
    "    with open(output_file_path, 'w') as f:\n",
    "        for page_content in cleaned_text:\n",
    "            f.write(page_content + \"\\n\\n\")  # Separate pages with extra line breaks"
   ]
  },
  {
   "cell_type": "code",
   "execution_count": 11,
   "metadata": {},
   "outputs": [],
   "source": [
    "def load_cleaned_text(file_path):\n",
    "    with open(file_path, 'r') as f:\n",
    "        # Read the entire content of the file\n",
    "        cleaned_text = f.read()\n",
    "    \n",
    "    return cleaned_text"
   ]
  },
  {
   "cell_type": "code",
   "execution_count": 12,
   "metadata": {},
   "outputs": [],
   "source": [
    "def chunk_by_paragraphs(text, chunk_size=512):\n",
    "    paragraphs = text.split('\\n\\n')  # Assuming paragraphs are separated by two newlines\n",
    "    chunks = []\n",
    "    current_chunk = \"\"\n",
    "    \n",
    "    for paragraph in paragraphs:\n",
    "        if len(current_chunk) + len(paragraph) <= chunk_size:\n",
    "            current_chunk += \"\\n\\n\" + paragraph\n",
    "        else:\n",
    "            chunks.append(current_chunk.strip())  # Save the current chunk\n",
    "            current_chunk = paragraph  # Start a new chunk with the current paragraph\n",
    "    \n",
    "    if current_chunk:\n",
    "        chunks.append(current_chunk.strip())  # Append the last chunk\n",
    "    \n",
    "    return chunks"
   ]
  },
  {
   "cell_type": "code",
   "execution_count": 13,
   "metadata": {},
   "outputs": [
    {
     "data": {
      "text/plain": [
       "'\\ndef chunking_doc(document):\\n    from langchain_text_splitters import RecursiveCharacterTextSplitter\\n\\n    text_splitter = RecursiveCharacterTextSplitter(chunk_size=512, chunk_overlap=64)\\n    documents = text_splitter.split_documents(document)\\n    print(f\"Document chunked successfully.\\n Document has {len(documents)} pages from the pdf\")\\n\\n    return documents\\n\\n'"
      ]
     },
     "execution_count": 13,
     "metadata": {},
     "output_type": "execute_result"
    }
   ],
   "source": [
    "\"\"\"\n",
    "def chunking_doc(document):\n",
    "    from langchain_text_splitters import RecursiveCharacterTextSplitter\n",
    "\n",
    "    text_splitter = RecursiveCharacterTextSplitter(chunk_size=512, chunk_overlap=64)\n",
    "    documents = text_splitter.split_documents(document)\n",
    "    print(f\"Document chunked successfully.\\n Document has {len(documents)} pages from the pdf\")\n",
    "\n",
    "    return documents\n",
    "\n",
    "\"\"\""
   ]
  },
  {
   "cell_type": "markdown",
   "metadata": {},
   "source": [
    "### Step 2: Create Embeddings and FAISS INDEX\n",
    "\n",
    "1.  Embedding model: \"sentence-transformers/all-MiniLM-L6-v2\"\n",
    "2.  Cuda enabled\n",
    "\n",
    "describe process flow for section:"
   ]
  },
  {
   "cell_type": "code",
   "execution_count": 14,
   "metadata": {},
   "outputs": [],
   "source": [
    "def initialize_embedding(model_name):\n",
    "    \"initialize embedding model\"\n",
    "    from sentence_transformers import SentenceTransformer #load library\n",
    "\n",
    "    if isinstance(model_name,str):\n",
    "        model_name = model_name\n",
    "\n",
    "        #initialize embedding model using Sentence Transformer\n",
    "        model_embedding = SentenceTransformer(model_name)\n",
    "\n",
    "        #save model for reuse\n",
    "        model_embedding.save(\"./embedding_model\") #saves config + model weights\n",
    "\n",
    "        return model_embedding\n",
    "    else:\n",
    "        raise TypeError(\"The model_name must be a string.\")\n"
   ]
  },
  {
   "cell_type": "code",
   "execution_count": 15,
   "metadata": {},
   "outputs": [],
   "source": [
    "def load_embedding_model(file_path,device_name):\n",
    "\n",
    "    '''Function to load embedding model '''  \n",
    "    from langchain_community.embeddings import HuggingFaceEmbeddings\n",
    "\n",
    "    if isinstance(file_path,str) and isinstance(device_name,str):\n",
    "        emb_model_id = file_path\n",
    "        model_kwargs = {'device': device_name}\n",
    "        encode_kwargs = {\"normalize_embeddings\": False}\n",
    "\n",
    "        #initialize embedding model\n",
    "        embedding_model= HuggingFaceEmbeddings(model_name=emb_model_id,\n",
    "                                               model_kwargs= model_kwargs,\n",
    "                                               encode_kwargs=encode_kwargs\n",
    "                                               )\n",
    "    \n",
    "        return embedding_model\n",
    "    else:\n",
    "        raise TypeError(\"The file path and device_name must be a string.\")"
   ]
  },
  {
   "cell_type": "code",
   "execution_count": 16,
   "metadata": {},
   "outputs": [],
   "source": [
    "def initialize_faiss(document,embedding_model):\n",
    "    ''' Create and save FAISS index'''\n",
    "    import faiss\n",
    "    from langchain.schema import Document\n",
    "    from langchain_community.vectorstores import FAISS\n",
    "\n",
    "    # Wrap the text chunks into Document objects with page_content\n",
    "    documents = [Document(page_content=doc) for doc in document]\n",
    "\n",
    "    #create FAISS index\n",
    "    faiss_index = FAISS.from_documents(documents,embedding_model)\n",
    "\n",
    "    #save FAISS index\n",
    "    faiss_index.save_local(\"./faiss_index\")\n",
    "\n",
    "    return faiss_index  \n",
    "\n"
   ]
  },
  {
   "cell_type": "code",
   "execution_count": 17,
   "metadata": {},
   "outputs": [],
   "source": [
    "def load_faiss_index(file_path,embedding_model):\n",
    "    '''load saved faiss index'''\n",
    "    import faiss\n",
    "    from langchain_community.vectorstores import FAISS\n",
    "    from langchain_community.embeddings import HuggingFaceEmbeddings\n",
    "    \n",
    "    if isinstance(file_path,str):\n",
    "        faiss_index = FAISS.load_local(file_path,\n",
    "                                       embedding_model,\n",
    "                                       allow_dangerous_deserialization=True ) # Enable safe loading\n",
    "        return faiss_index\n",
    "    \n",
    "    else:\n",
    "        raise TypeError('The file path must be string.')"
   ]
  },
  {
   "cell_type": "markdown",
   "metadata": {},
   "source": [
    "### Step 3: Integrate RAG pipeline\n",
    "\n",
    "1. create pretrained model pipeline\n",
    "2. setup RAG pipeline\n",
    "3. model_id : \"google/flan-t5-small\""
   ]
  },
  {
   "cell_type": "code",
   "execution_count": null,
   "metadata": {},
   "outputs": [],
   "source": [
    "def rag_pipeline(model_name,faiss_index):\n",
    "    '''Set up pipeline with RAG for question and answers '''\n",
    "    from langchain.chains import create_retrieval_chain\n",
    "    from langchain.chains.combine_documents import create_stuff_documents_chain\n",
    "    from langchain_core.prompts import ChatPromptTemplate\n",
    "    from langchain_community.vectorstores import FAISS\n",
    "    from langchain_core.vectorstores import VectorStoreRetriever\n",
    "    #from langchain_community.llms import HuggingFacePipeline\n",
    "    from langchain_huggingface import HuggingFacePipeline\n",
    "    from transformers import T5Tokenizer, T5ForConditionalGeneration, pipeline\n",
    "    import torch\n",
    "    import sentencepiece\n",
    "\n",
    "\n",
    "\n",
    "    #initialize llm and tokenizer\n",
    "    tokenizer = T5Tokenizer.from_pretrained(model_name)\n",
    "    llm_model = T5ForConditionalGeneration.from_pretrained(model_name,\n",
    "                                                           device_map = \"auto\",\n",
    "                                                           torch_dtype = torch.bfloat16\n",
    "                                                           )\n",
    "    \n",
    "    \n",
    "    do_sample = True if temperature > 0 else False\n",
    "\n",
    "    #initialize llm pipeline\n",
    "    llm_pipeline = pipeline(\"text2text-generation\",\n",
    "                            model=llm_model,\n",
    "                            tokenizer=tokenizer,\n",
    "                            max_new_tokens=256,\n",
    "                            truncation= True,\n",
    "                            device_map='auto',\n",
    "                            temperature = 0.4,\n",
    "                            top_p = 0.9,\n",
    "                            do_sample = do_sample\n",
    "                            )\n",
    "\n",
    "    #Wrap in LangChain LLM wrapper\n",
    "    llm = HuggingFacePipeline(pipeline=llm_pipeline)\n",
    "\n",
    "    \n",
    "    #initialize retriever\n",
    "    retriever = faiss_index.as_retriever(search_kwargs={\"k\":10}) #retrieves top 5 relevant chunks\n",
    "\n",
    "    #define Prompt\n",
    "    system_prompt = (\"You are a HR assistant. \" \n",
    "                     \"Use the given context to answer the question, \"\n",
    "                     \"combining information where necessary.\"\n",
    "                     \"If you don't know the answer, say you don't know. \"\n",
    "                     \"Provide a synthesized response in 2-3 sentences maximum. \"\n",
    "                     \"Context: {context}\")\n",
    "\n",
    "    prompt = ChatPromptTemplate.from_messages(\n",
    "        [\n",
    "            (\"system\", system_prompt),\n",
    "            (\"human\", \"{input}\")\n",
    "            ]\n",
    "            )\n",
    "\n",
    "    #create document combination chain\n",
    "    question_answer_chain = create_stuff_documents_chain(llm,#hugginfacepipeline wrapped model\n",
    "                                                         prompt\n",
    "                                                         )  \n",
    "\n",
    "    #create retrieval chain\n",
    "    rag_chain = create_retrieval_chain(retriever,question_answer_chain)  \n",
    "\n",
    "    return rag_chain\n",
    "  "
   ]
  },
  {
   "cell_type": "code",
   "execution_count": 19,
   "metadata": {},
   "outputs": [],
   "source": [
    "def ask_question(rag_chain, query):\n",
    "    \"\"\"Function to test the RAG pipeline with a sample question.\"\"\"\n",
    "    response = rag_chain.invoke({\"input\": query})\n",
    "\n",
    "    print(\"Raw Response:\", response)  # Debugging step to see the response structure\n",
    "\n",
    "    return response.get(\"answer\", \"I am sorry, I am not sure how to respond.\")"
   ]
  },
  {
   "cell_type": "markdown",
   "metadata": {},
   "source": [
    "#### simulation test"
   ]
  },
  {
   "cell_type": "code",
   "execution_count": 20,
   "metadata": {},
   "outputs": [],
   "source": [
    "#step 1 Document ingestion and processing\n",
    "\n",
    "#load document\n",
    "#hr_manual = load_pdf('hr_manual.pdf')\n",
    "\n",
    "#preprocess text\n",
    "#hr_manual_cleaned = extract_and_clean_pdf('hr_manual.pdf')\n",
    "\n",
    "#save_cleaned_text_to_file(hr_manual_cleaned, 'cleaned_hr_manual.txt')\n",
    "\n",
    "#load processed document\n",
    "hr_manual = load_cleaned_text('cleaned_hr_manual.txt')\n",
    "\n",
    "# Chunk the document\n",
    "chunked_hr_manual = chunk_by_paragraphs(hr_manual)\n",
    "\n",
    "\n",
    "\n",
    "\n"
   ]
  },
  {
   "cell_type": "code",
   "execution_count": 21,
   "metadata": {},
   "outputs": [
    {
     "name": "stderr",
     "output_type": "stream",
     "text": [
      "C:\\Users\\On3B3\\AppData\\Local\\Temp\\ipykernel_35672\\1198923058.py:12: LangChainDeprecationWarning: The class `HuggingFaceEmbeddings` was deprecated in LangChain 0.2.2 and will be removed in 1.0. An updated version of the class exists in the :class:`~langchain-huggingface package and should be used instead. To use it run `pip install -U :class:`~langchain-huggingface` and import as `from :class:`~langchain_huggingface import HuggingFaceEmbeddings``.\n",
      "  embedding_model= HuggingFaceEmbeddings(model_name=emb_model_id,\n"
     ]
    }
   ],
   "source": [
    "#Step 2 Create EMbeddings and FAISS index\n",
    "\n",
    "model_emb_id=\"sentence-transformers/all-MiniLM-L6-v2\"\n",
    "emb_file_path = \"./embedding_model\"\n",
    "device_name = 'cuda'\n",
    "faiss_file_path = \"./faiss_index\"\n",
    "\n",
    "#intialize embedding model\n",
    "#emb_model= initialize_embedding(model_emb_id)\n",
    "\n",
    "#load saved model with Huggin face embeddings\n",
    "embedding_model = load_embedding_model(emb_file_path,device_name)\n",
    "\n",
    "#create faiss index\n",
    "#faiss_index = initialize_faiss(chunked_hr_manual,embedding_model)\n",
    "\n",
    "#load faiss index\n",
    "faiss_index = load_faiss_index(faiss_file_path,embedding_model)\n",
    "\n"
   ]
  },
  {
   "cell_type": "code",
   "execution_count": 22,
   "metadata": {},
   "outputs": [
    {
     "name": "stderr",
     "output_type": "stream",
     "text": [
      "You are using the default legacy behaviour of the <class 'transformers.models.t5.tokenization_t5.T5Tokenizer'>. This is expected, and simply means that the `legacy` (previous) behavior will be used so nothing changes for you. If you want to use the new behaviour, set `legacy=False`. This should only be set if you understand what it means, and thoroughly read the reason why this was added as explained in https://github.com/huggingface/transformers/pull/24565\n",
      "Device set to use cuda:0\n",
      "c:\\Users\\On3B3\\anaconda3\\envs\\prodenv3\\lib\\site-packages\\transformers\\generation\\configuration_utils.py:628: UserWarning: `do_sample` is set to `False`. However, `temperature` is set to `0.4` -- this flag is only used in sample-based generation modes. You should set `do_sample=True` or unset `temperature`.\n",
      "  warnings.warn(\n",
      "c:\\Users\\On3B3\\anaconda3\\envs\\prodenv3\\lib\\site-packages\\transformers\\generation\\configuration_utils.py:633: UserWarning: `do_sample` is set to `False`. However, `top_p` is set to `0.9` -- this flag is only used in sample-based generation modes. You should set `do_sample=True` or unset `top_p`.\n",
      "  warnings.warn(\n"
     ]
    },
    {
     "name": "stdout",
     "output_type": "stream",
     "text": [
      "Raw Response: {'input': \"What is the company's policy on study leave?\", 'context': [Document(id='01895847-9d00-46a5-9f26-2a2118e3e6cd', metadata={}, page_content='-  - a) application for study leave by the employee and approved by Manager/Director, b) letter of acceptance from the academic institution indicating the intended course of study, c) indication from the Manager/Director whether a replacement will be needed. This information is to be submitted to the Human Resource Manager, through the Branch Manager or Director. .. USelection for study leave Selection for study leave with full pay will be based on the following considerations: a) Employees must be permanently employed and would have been in the employ of the Agency for a minimum period of two () years at the time of making the application b) The course must be relevant to the business of the Agency c) Employee’s performance must be satisfactory (% and over in the annual appraisal ) d) The number of employees in the Agency currently on study leave e) Financial considerations f) Priority areas for the Agency as determined by the Executive Management team All applications for study leave will be reviewed by the Human Resource Executive Committee for final approval. .. UStudy Leave periodU i. In the first instance, study leave shall be granted for a maximum period of one () year. ii. For those persons on study leave greater than one () year The Agency will require progress reports from the Institution of learning, at the end of the first year, as support for approving the continuing of study leave into the second year. iii. If the course of study has to go beyond the prescribed period of two years, an extension, at half pay, may be granted by the Agency in special circumstances e.g. illness during the course of study, or other reasons, which the Agency considers merit the extension. Failure to obtain the extension from the Agency will necessitate the employee returning to work immediately. .. UNumber of employees selected annually: i. The Agency will grant study leave with full pay up to a maximum of three () employees per annum, subject to the availability of funding.'), Document(id='900c8c92-ae93-4e8f-a9bb-6d07b04f91df', metadata={}, page_content='-  - ii. An employee, who fails to obtain study leave with pay, may be granted leave of absence without salary in addition to vacation for which the employee is eligible, for the purpose of undertaking a course of study. .. UEarning Vacation leave while on Study Leave Employees on study leave will not earn any vacation leave during the period of study. Vacation leave that is available may be used as part of the study leave with pay period. This will reduce the period of bonding that the employee would be expected to serve. . Recreational Leave i. Officers who have been granted study leave and who have had to forfeit vacation leave and/or salary may be granted a period of absence on full pay at the expiration of the approved period of study leave. ii. The period of leave granted for this purpose shall in no instance be in excess of fifteen () working days. iii. Any leave granted for these purposes must be taken immediately following the expiration of the approved period of study leave, before resumption of duties and cannot be accumulated. On completion of this period of leave, the employee is required to immediately report for work. . Requirements of employees who are granted paid study leave All employees who are granted paid study leave: a) Prior to proceeding on study leave, will be required to sign a bond agreement to the Agency (see bonding policy in the Training and Development Policy). b) Must submit to the Human Resources Manager, original copies of examination results at the end of each semester or academic year (whichever is relevant) and certificates received on completion of the course; c) Must submit a timetable for the next semester where applicable; d) Must communicate with the Human Resources Manager to ascertain whether he/she is required to resume duties during the period of summer vacation; and e) Must resume duties immediately on completion of the course of study'), Document(id='1c75c546-599b-49e8-925a-fdd2ad938773', metadata={}, page_content='-  - . Study Leave The Chief Executive Officer shall supervise the selection of persons for the grant of study leave and for the award of scholarships for special training for the Agency. i. Permanent employees, other than those on contracts, may be granted leave up to a maximum period of two () years at full pay i.e. basic pay plus travelling allowance (if the course is being done locally) to pursue courses of study which are: . Mandated by the Agency : programme of study initiated by the Agency (other Government department) and therefore deemed to be in the national interest. For example, government scholarships and awards to fill critical skill shortage areas, courses to meet future strategic needs . Initiated by the employees to improve their qualifications and skills in areas directly related to current functions or relevant to the work of the agency. ii. Study leave with full pay may be granted if no replacement for the employee is needed. If a replacement is needed, study leave with full pay may only be granted subject to the availability of funding. The Branch Manager/Director in consultation with the Manager, Finance & Accounts Branch will determine if the source of funds is available to accommodate a replacement. .. UStudy Leave without Pay Study leave without pay may be granted to employees under the following circumstances: a) Where funds are not available and the course of study is deemed relevant to the work of the Agency b) Where the quota of paid study leave has already been exhausted c) Employees wishing to pursue courses of study for their own personal interest or growth and which course(s) is not directly related to the work of the Agency but may be applicable to other Ministries/ Departments in the Public Sector. The Agency will retain the position of the employee on no pay study leave until the completion of the course of study. .. UApplying for study leave All employees who wish to proceed on study leave must complete an application form and submit the following for consideration:'), Document(id='8a33afeb-4930-4f3e-86ff-9914c9a448cb', metadata={}, page_content='-  - . Day release Employees may be granted a combination of day releases during the academic year and full time study leave during the summer period to attend any approved tertiary institution. This will only be considered where evening classes are not available for the particular course. The following considerations will apply: i. The employee will cease to earn vacation leave at the commencement of the course until its completion. ii. The employee is expected to attend classes  or  days a week and where necessary on full time for  to  weeks during the summer period if required by the institution. iii. The day(s) and full time period utilised for the course will be charged to his/her vacation leave. After the vacation has been exhausted, the officer will enter into a period of study leave which may be granted on full salary for a total period of up to  days, to be utilised as at (ii) iv. On completion of the course the employee will be credited with vacation leave for the number of days on which he/she was not in attendance at classes, subject to the provision that vacation leave will not exceed the maximum prescribed. v. Employees granted study leave as above will be entitled to recreational leave. vi. Employees granted study leave as at . (i)  and .. to run consecutively with the day release should be credited with the vacation leave earned at (IV) prior to the commencement of the full time study leave. . Part- time Study Courses Employees may be granted time-off by the CEO to persue courses of study at approved institutions on a part-time basis during established working hours . No-Pay Leave i. Permanent and Contract employees may qualify for “no pay” leave of absence at the discretion of the CEO in consultation with the Division Head and the Human Resource Manager for a maximum of one hundred and eighty () calendar days in any one calendar year on the grounds of urgent private affairs and with the provision that the employee concerned will first take all accumulated vacation leave which may have accrued to him/her before leave without pay is taken.'), Document(id='13b5cdcc-6fec-4337-9442-d6c689c7fcf9', metadata={}, page_content='-  - v. The allowance will also not be payable during the period of pre- retirement leave where the employee has been employed during such leave by an Agency financed from public funds on terms which include the payment of travelling allowance. vi. If the travelling allowance attached to the substantive office from which he/she is retiring is higher than that payable in relation to the person’s re-employment, then the higher rate of allowance may be paid up to the date of the expiration of pre-retirement leave. This payment shall be in lieu of the allowance payable in respect of the re-employment position. The allowance in relation to his/her re-employment will become payable when the person’s retirement becomes effective. vii. Where the study is undertaken overseas, the allowance will be paid only for the period of vacation leave utilized in connection with the study. viii. Where an officer attains the maximum vacation leave accumulable and is paid salary in lieu of vacation leave, the travelling allowance will be paid for the entire period in respect of which salary in lieu of leave is paid. . Subsistence Allowance .. UEligibility i. When travelling on official duty, employees are eligible to be paid a subsistence allowance at the appropriate rate prescribed from time to time. ii. To be eligible, the employee must have travelled a distance which exceeds eighteen () kilometres from his/her official place of work and must have been absent for a period of at least six () hours. .. UCalculation of (Subsistence) Allowance i. The subsistence allowance will be calculated on the basis of the -hour day and will be pro-rated for the number of hours of absence. ii. Employees, who overnight, will be eligible for a full day’s allowance, irrespective of the number of hours of absence.'), Document(id='888c1472-f5bf-4917-bce1-d27157b96e6e', metadata={}, page_content='-  - .. UPrior to Commencement of Course Awardees are to ensure that the loan agreement is executed by himself/herself and his/her guarantors .. UWhile on Course the Awardee should: i. Devote the full time allocated to the course for which the award was made; ii. Refrain from changing his/her course of study without prior permission; iii. Sit all examinations that are set or write such papers or reports as may be required by the training authorities; iv. Provide progress reports, at the end of each semester or at the end of short courses .. UUpon Completion of Course i. If a loan agreement is in place, the awardee will resume duty immediately upon completion of the course of study, after any approved period of leave ii. In the event of failure to honour the terms of the loan agreement, the awardee will repay such sum, with interest, as determined by the Agency. . Suspension or Termination of Training Awards A scholarship or training award may be suspended or terminated by the Agency if: i. The employee fails to complete the loan agreement by the end of the period of his/her vacation leave ii. The employee changes the approved course of study without prior approval from the Agency iii. Reports on the employees’ performance or conduct are consistently unsatisfactory iv. The employee, without reasonable cause, fails to pass a prescribed examination within the time set by the authorities of the institution at which he/she is attending v. The employee engages in any occupation which is considered detrimental to his/her progress in the prescribed course of study vi. The employee becomes unfit to complete his/her studies owing to illness'), Document(id='93a21bb2-c16c-4a73-b4d5-056ff598f0dd', metadata={}, page_content='-  - .. URecalled LeaveU i. Any leave granted may be cancelled based on the exigencies of the service. ii. Where an employee’s leave is cancelled, the remaining portion is considered ‘recalled leave’ and is treated separately. iii. Recalled Leave shall not be counted in the calculation of the maximum leave the employee may accumulate and may be taken at the employee’s convenience, subject to the exigencies of the service or it may be included in the pre-retirement leave to which the employee may be entitled. .. UAccessibility While on Leave Abroad i. Employees who hold positions that are critical to the effective operations of the Agency must inform the Chief Executive Officer of their intention to travel overseas while on leave and must make arrangements to be accessible at all times. ii. The Chief Executive Officer will advise those employees who fall within the categories above. .. UResumption of Duty i. Employees are required to report, in writing, their resumption of duty, through their supervisors, to the Human Resources Manager following the expiration of vacation leave, no-pay leave and any other extended leave of absence (five () working days and over) ii. If an employee fails to resume duty following the expiration of any period of leave, steps should be taken immediately by the Human Resource Manager to ensure that the employee is not over-paid. iii. An employee who is absent on approved leave, may not voluntarily resume duty before the full period of such leave has expired, unless he/she receives permission to do so beforehand after his/her Branch Manager has submitted an application in this regard to the Human Resources Manager. . Over-granting of vacation leave i. An employee may not be granted vacation leave with full pay in excess of that which stands to his/her credit. If, due to a bona fide error, an employee has been granted vacation leave with full pay in excess of that which stood to his/her credit at that time, such over- grant must be deducted from vacation leave that subsequently accrues to him/her.'), Document(id='efc0d535-c3b4-4096-ac3b-399033e041e4', metadata={}, page_content='-  - v. Leave cannot be earned while on vacation, sick or any other leave of absence in excess of fourteen () days vi. Employees will only be allowed to go on leave earned at the date of proceeding on the specified leave. vii. Leave earned in one contract period will not be carried over into a new contract period. viii. The date of employment refers to the date of hiring or retaining the services of an employee. That is, the employee’s first day on the job with the Agency. The anniversary date of employment therefore refers to the yearly recurrence of the date on which the employee was first employed or the effective start date of the current employment contract. ix. Employees who intend to proceed overseas (while on leave or on weekends) must request permission from the Human Resources Manager. Failure to request permission may result in immediate dismissal with effect from the date the employee proceeded overseas. x. Supervisors are responsible to ensure that an appropriate leave form covers all absences. Where applicable, attendance registers should be scrutinized regularly to ensure that a leave form is submitted for every absence. Outstanding leave forms should be followed up immediately. Leave reports should be properly reviewed and scrutinized and any deviations or irregularities rectified immediately. . Vacation Leave .. URate of Leave i. Permanent employees will be eligible for twenty () days paid vacation leave per annum. ii. Temporary employees will be eligible for ten () days paid vacation leave per annum. iii. Contract employees who are attached to positions on the established structure will be eligible for twenty () days paid vacation leave per annum. All other contract employees will be eligible for leave in keeping with policies issued by the appropriate authority. iv. Kindly note, vacation leave is continuously earned (pro-rated) from the first day of employment. .. UGrant of Vacation Leave While employees are entitled to vacation leave, the granting of such leave is at the discretion of the manager/supervisor, subject to the exigencies of the service.'), Document(id='e36345b9-3309-4a2d-aa4f-7331e3827b6a', metadata={}, page_content='-  - . LEAVE ENTITLEMENT . Policy Statement It is the Agency’s policy to provide for agreed levels of leave as part of its overall compensation package. . Objectives The objectives of this policy are to: i. ensure that employees understand their leave entitlements; ii. provide leave entitlement in line with statutory provisions for sickness, maternity and other special reasons to ensure that employees maintain their well being and motivation necessary for effective performance while at work. Procedures . Determination and Calculation The employees’ employment date will be used for the purpose of calculating all leave entitlements. All type of leave for all employees shall be determined and calculated on the basis of working days. . Administration i. The Agency administers the granting of leave in a manner which balances employee well-being with the provision of quality service to the public. ii. An employee must apply for leave of absence on the prescribed form. iii. Employees are not entitled to earn and accumulate vacation leave and to be paid salary in lieu of vacation leave in relation to the period during which they were on suspension and interdiction. iv. No employee should be granted vacation leave before he/she has completed twelve () consecutive months of service from the date of employment except on the grounds of urgent private affairs or ill-health.'), Document(id='1b8e327d-9378-4438-b32e-936bdddcc501', metadata={}, page_content='-  - . SEPARATION . Policy Statement It is the Agency’s policy to manage the separation process (including dismissals arising from the implementation of disciplinary procedure measures) in a consistent and equitable manner. . Objectives The objectives of this policy are to: i. ensure fairness and consistency in the separation of employees; and ii. to ensure compliance with statutory requirements for provisions covering separation of employment. Procedures . Voluntary Separation This includes: i. Resignation ii. Early Retirement iii. Disability Retirement .. UResignationU i. Employees may decide to leave the Agency on a voluntary basis and tender their resignation. In such cases, notices should be in keeping with the terms of their employment. ii. All permanent employees are required to give a minimum of four () weeks written notice to allow the Agency adequate time to process all necessary paperwork and payments due to the employee and to allow sufficient time to reorganise staffing arrangements. Employees who are on probation may separate from the Agency without giving any written notice. iii. All temporary employees who have been employed for less than six () months are required to give a minimum of one () week’s written notice. Temporary employees who have been employed for over six () months are required to give two () weeks written notice. iv. Directors, Senior Managers, Managers, and all other employees on fixed term contracts are required to give notice in keeping with the terms of their employment outlined in their employment contracts. v. The Agency reserves the right to request immediate cessation of employment prior to the effective date of resignation.')], 'answer': 'ii.'}\n",
      "AI Response: ii.\n"
     ]
    }
   ],
   "source": [
    "#Step 3 Inference\n",
    "\n",
    "model_id_llm = \"google/flan-t5-small\"\n",
    "\n",
    "#initialize RAG inference pipeline\n",
    "rag_retrieval = rag_pipeline(model_id_llm, faiss_index)\n",
    "\n",
    "question = \"What is the company's policy on study leave?\"\n",
    "answer = ask_question(rag_retrieval, question)\n",
    "print(\"AI Response:\", answer)"
   ]
  }
 ],
 "metadata": {
  "kernelspec": {
   "display_name": "prodenv3",
   "language": "python",
   "name": "python3"
  },
  "language_info": {
   "codemirror_mode": {
    "name": "ipython",
    "version": 3
   },
   "file_extension": ".py",
   "mimetype": "text/x-python",
   "name": "python",
   "nbconvert_exporter": "python",
   "pygments_lexer": "ipython3",
   "version": "3.9.21"
  }
 },
 "nbformat": 4,
 "nbformat_minor": 2
}
